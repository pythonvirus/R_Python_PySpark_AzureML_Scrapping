{
 "cells": [
  {
   "cell_type": "markdown",
   "metadata": {},
   "source": [
    "# Writing Mathematics equations"
   ]
  },
  {
   "cell_type": "code",
   "execution_count": 1,
   "metadata": {
    "ExecuteTime": {
     "end_time": "2020-10-05T15:44:53.834096Z",
     "start_time": "2020-10-05T15:44:46.974445Z"
    }
   },
   "outputs": [],
   "source": [
    "import handcalcs.render\n",
    "from math import sqrt, sin, pi"
   ]
  },
  {
   "cell_type": "code",
   "execution_count": 2,
   "metadata": {
    "ExecuteTime": {
     "end_time": "2020-10-05T15:44:53.919094Z",
     "start_time": "2020-10-05T15:44:53.878095Z"
    }
   },
   "outputs": [
    {
     "data": {
      "text/latex": [
       "\\[\n",
       "\\begin{aligned}\n",
       "a &= 23 &b &= 43 &c &= 2\\\\\n",
       "\\end{aligned}\n",
       "\\]"
      ],
      "text/plain": [
       "<IPython.core.display.Latex object>"
      ]
     },
     "metadata": {},
     "output_type": "display_data"
    }
   ],
   "source": [
    "%%render\n",
    "#Parameters\n",
    "a=23\n",
    "b=43\n",
    "c=2"
   ]
  },
  {
   "cell_type": "code",
   "execution_count": 3,
   "metadata": {
    "ExecuteTime": {
     "end_time": "2020-10-05T15:44:58.119909Z",
     "start_time": "2020-10-05T15:44:58.060910Z"
    }
   },
   "outputs": [
    {
     "data": {
      "text/latex": [
       "\\[\n",
       "\\begin{aligned}\n",
       "r &= \\sqrt{ \\left( a \\right) ^{ 2 } + \\left( b \\right) ^{ 2 } }\\;\n",
       "\\\\[10pt]\n",
       "z &= \\frac{ - b + \\sqrt{ \\left( \\left( b \\right) ^{ 2 } - 4 \\cdot a \\cdot c \\right) } }{ 2 \\cdot a }\\;\n",
       "\\end{aligned}\n",
       "\\]"
      ],
      "text/plain": [
       "<IPython.core.display.Latex object>"
      ]
     },
     "metadata": {},
     "output_type": "display_data"
    }
   ],
   "source": [
    "%%render\n",
    "#symbolic\n",
    "r= sqrt(a**2+b**2)\n",
    "z= (-b+ sqrt(b**2-4*a*c))/(2*a)"
   ]
  },
  {
   "cell_type": "code",
   "execution_count": 4,
   "metadata": {
    "ExecuteTime": {
     "end_time": "2020-10-05T15:45:05.114075Z",
     "start_time": "2020-10-05T15:45:05.047075Z"
    }
   },
   "outputs": [
    {
     "data": {
      "text/latex": [
       "\\[\n",
       "\\begin{aligned}\n",
       "r &= \\sqrt{ \\left( a \\right) ^{ 2 } + \\left( b \\right) ^{ 2 } } = \\sqrt{ \\left( 23 \\right) ^{ 2 } + \\left( 43 \\right) ^{ 2 } } &= 48.765\n",
       "\\\\[10pt]\n",
       "z &= \\frac{ - b + \\sqrt{ \\left( \\left( b \\right) ^{ 2 } - 4 \\cdot a \\cdot c \\right) } }{ 2 \\cdot a } = \\frac{ - 43 + \\sqrt{ \\left( \\left( 43 \\right) ^{ 2 } - 4 \\cdot 23 \\cdot 2 \\right) } }{ 2 \\cdot 23 } &= -0.048\n",
       "\\end{aligned}\n",
       "\\]"
      ],
      "text/plain": [
       "<IPython.core.display.Latex object>"
      ]
     },
     "metadata": {},
     "output_type": "display_data"
    }
   ],
   "source": [
    "%%render\n",
    "r= sqrt(a**2+b**2)\n",
    "z= (-b+ sqrt(b**2-4*a*c))/(2*a)"
   ]
  },
  {
   "cell_type": "code",
   "execution_count": 5,
   "metadata": {
    "ExecuteTime": {
     "end_time": "2020-10-05T15:45:11.849791Z",
     "start_time": "2020-10-05T15:45:11.728788Z"
    }
   },
   "outputs": [
    {
     "data": {
      "text/latex": [
       "\\[\n",
       "\\begin{aligned}\n",
       "d &= \\sqrt{ a } + \\sin{ \\left( b \\right) } + \\pi + \\sqrt{ a } = \\sqrt{ 23 } + \\sin{ \\left( 43 \\right) } + 3.142 + \\sqrt{ 23 } &= 11.901\\;\\;\\textrm{(this is d)}\n",
       "\\\\[10pt]\n",
       "e &= \\sin{ \\left( b \\right) } + \\pi + \\sqrt{ a } + \\sin{ \\left( b \\right) } + \\pi = \\sin{ \\left( 43 \\right) } + 3.142 + \\sqrt{ 23 } + \\sin{ \\left( 43 \\right) } + 3.142 &= 9.415\\;\\;\\textrm{(this e)}\n",
       "\\end{aligned}\n",
       "\\]"
      ],
      "text/plain": [
       "<IPython.core.display.Latex object>"
      ]
     },
     "metadata": {},
     "output_type": "display_data"
    }
   ],
   "source": [
    "%%render\n",
    "d = sqrt(a) + sin(b) + pi + sqrt(a)  # this is d\n",
    "e = sin(b) + pi + sqrt(a) + sin(b) + pi # this e"
   ]
  },
  {
   "cell_type": "code",
   "execution_count": 6,
   "metadata": {
    "ExecuteTime": {
     "end_time": "2020-10-05T15:45:26.921134Z",
     "start_time": "2020-10-05T15:45:26.908135Z"
    }
   },
   "outputs": [],
   "source": [
    "from handcalcs.decorator import handcalc\n",
    "\n",
    "@handcalc(jupyter_display = True)\n",
    "def some_cal(a,b):\n",
    "    d = sqrt(a) + sin(b) + pi + sqrt(a)  # this is d\n",
    "    e = sin(b) + pi + sqrt(a) + sin(b) + pi # this e\n",
    "    return locals()"
   ]
  },
  {
   "cell_type": "code",
   "execution_count": 7,
   "metadata": {
    "ExecuteTime": {
     "end_time": "2020-10-05T15:45:33.311707Z",
     "start_time": "2020-10-05T15:45:33.234702Z"
    }
   },
   "outputs": [
    {
     "data": {
      "text/latex": [
       "\\[\n",
       "\\begin{aligned}\n",
       "d &= \\sqrt{ a } + \\sin{ \\left( b \\right) } + \\pi + \\sqrt{ a } = \\sqrt{ 1 } + \\sin{ \\left( 2 \\right) } + pi + \\sqrt{ 1 } &= 6.051\\;\\;\\textrm{(this is d)}\n",
       "\\\\[10pt]\n",
       "e &= \\sin{ \\left( b \\right) } + \\pi + \\sqrt{ a } + \\sin{ \\left( b \\right) } + \\pi = \\sin{ \\left( 2 \\right) } + pi + \\sqrt{ 1 } + \\sin{ \\left( 2 \\right) } + pi &= 9.102\\;\\;\\textrm{(this e)}\n",
       "\\end{aligned}\n",
       "\\]"
      ],
      "text/plain": [
       "<IPython.core.display.Latex object>"
      ]
     },
     "metadata": {},
     "output_type": "display_data"
    },
    {
     "data": {
      "text/plain": [
       "{'a': 1, 'b': 2, 'd': 6.050890080415475, 'e': 9.10178016083095}"
      ]
     },
     "execution_count": 7,
     "metadata": {},
     "output_type": "execute_result"
    }
   ],
   "source": [
    "some_cal(1,2)"
   ]
  },
  {
   "cell_type": "code",
   "execution_count": null,
   "metadata": {},
   "outputs": [],
   "source": []
  }
 ],
 "metadata": {
  "kernelspec": {
   "display_name": "Python 3",
   "language": "python",
   "name": "python3"
  },
  "language_info": {
   "codemirror_mode": {
    "name": "ipython",
    "version": 3
   },
   "file_extension": ".py",
   "mimetype": "text/x-python",
   "name": "python",
   "nbconvert_exporter": "python",
   "pygments_lexer": "ipython3",
   "version": "3.7.3"
  },
  "toc": {
   "base_numbering": 1,
   "nav_menu": {},
   "number_sections": true,
   "sideBar": true,
   "skip_h1_title": false,
   "title_cell": "Table of Contents",
   "title_sidebar": "Contents",
   "toc_cell": false,
   "toc_position": {},
   "toc_section_display": true,
   "toc_window_display": false
  },
  "varInspector": {
   "cols": {
    "lenName": 16,
    "lenType": 16,
    "lenVar": 40
   },
   "kernels_config": {
    "python": {
     "delete_cmd_postfix": "",
     "delete_cmd_prefix": "del ",
     "library": "var_list.py",
     "varRefreshCmd": "print(var_dic_list())"
    },
    "r": {
     "delete_cmd_postfix": ") ",
     "delete_cmd_prefix": "rm(",
     "library": "var_list.r",
     "varRefreshCmd": "cat(var_dic_list()) "
    }
   },
   "types_to_exclude": [
    "module",
    "function",
    "builtin_function_or_method",
    "instance",
    "_Feature"
   ],
   "window_display": false
  }
 },
 "nbformat": 4,
 "nbformat_minor": 2
}
