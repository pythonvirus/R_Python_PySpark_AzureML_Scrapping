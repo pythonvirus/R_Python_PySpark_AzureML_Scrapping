{
 "cells": [
  {
   "cell_type": "markdown",
   "metadata": {},
   "source": [
    "# Analysis of Warshall vs Naive Algorithm - Transitive Closure"
   ]
  },
  {
   "cell_type": "code",
   "execution_count": 1,
   "metadata": {
    "ExecuteTime": {
     "end_time": "2020-08-19T17:20:55.151090Z",
     "start_time": "2020-08-19T17:20:51.366613Z"
    }
   },
   "outputs": [],
   "source": [
    "#Required Libraries Import\n",
    "\n",
    "import numpy as np\n",
    "import time\n",
    "import matplotlib.pyplot as plt\n",
    "import math\n",
    "from datetime import datetime"
   ]
  },
  {
   "cell_type": "markdown",
   "metadata": {},
   "source": [
    "### Warshall Algorithm to compute transitive closure"
   ]
  },
  {
   "cell_type": "code",
   "execution_count": 2,
   "metadata": {
    "ExecuteTime": {
     "end_time": "2020-08-19T17:21:17.363057Z",
     "start_time": "2020-08-19T17:21:17.350059Z"
    }
   },
   "outputs": [],
   "source": [
    "def warshallAlgorithm(adjMtrx, order):    \n",
    "    adjMatrix = adjMtrx\n",
    "    for k in range(order):\n",
    "        for i in range(order):\n",
    "            for j in range(order):\n",
    "                adjMatrix[i][j] = adjMatrix[i][j] or (adjMatrix[i][k] and adjMatrix[k][j])\n",
    "    \n",
    "    return adjMatrix"
   ]
  },
  {
   "cell_type": "markdown",
   "metadata": {},
   "source": [
    "### Naive Algorithm to compute transitive closure"
   ]
  },
  {
   "cell_type": "code",
   "execution_count": 3,
   "metadata": {
    "ExecuteTime": {
     "end_time": "2020-08-19T17:22:04.143344Z",
     "start_time": "2020-08-19T17:22:04.089343Z"
    }
   },
   "outputs": [],
   "source": [
    "def naiveAlgorithm(adjMtrx, order):\n",
    "    adjMatrixK = adjMtrx.copy()\n",
    "    adjMatrixTC = adjMtrx.copy()\n",
    "    for k in range(1, order):\n",
    "        adjMatrixKTmp = np.zeros([order, order], dtype=int)\n",
    "        for i in range(order):\n",
    "            for j in range(order):                \n",
    "                for l in range(order):\n",
    "                    adjMatrixKTmp[i][j] = adjMatrixKTmp[i][j] or (adjMatrixK[i][l] and adjMtrx[l][j])\n",
    "                adjMatrixTC[i][j] = adjMatrixTC[i][j] or adjMatrixKTmp[i][j]\n",
    "        adjMatrixK = adjMatrixKTmp.copy()\n",
    "                \n",
    "    return adjMatrixTC"
   ]
  },
  {
   "cell_type": "markdown",
   "metadata": {},
   "source": [
    "### Evaluation of Both Algorithm using random matrices of order 10 to 100"
   ]
  },
  {
   "cell_type": "code",
   "execution_count": 4,
   "metadata": {
    "ExecuteTime": {
     "end_time": "2020-08-19T17:59:40.186431Z",
     "start_time": "2020-08-19T17:23:41.867285Z"
    }
   },
   "outputs": [
    {
     "name": "stdout",
     "output_type": "stream",
     "text": [
      "Order of Matrix : 10\n",
      "Order of Matrix : 11\n",
      "Order of Matrix : 12\n",
      "Order of Matrix : 13\n",
      "Order of Matrix : 14\n",
      "Order of Matrix : 15\n",
      "Order of Matrix : 16\n",
      "Order of Matrix : 17\n",
      "Order of Matrix : 18\n",
      "Order of Matrix : 19\n",
      "Order of Matrix : 20\n",
      "Order of Matrix : 21\n",
      "Order of Matrix : 22\n",
      "Order of Matrix : 23\n",
      "Order of Matrix : 24\n",
      "Order of Matrix : 25\n",
      "Order of Matrix : 26\n",
      "Order of Matrix : 27\n",
      "Order of Matrix : 28\n",
      "Order of Matrix : 29\n",
      "Order of Matrix : 30\n",
      "Order of Matrix : 31\n",
      "Order of Matrix : 32\n",
      "Order of Matrix : 33\n",
      "Order of Matrix : 34\n",
      "Order of Matrix : 35\n",
      "Order of Matrix : 36\n",
      "Order of Matrix : 37\n",
      "Order of Matrix : 38\n",
      "Order of Matrix : 39\n",
      "Order of Matrix : 40\n",
      "Order of Matrix : 41\n",
      "Order of Matrix : 42\n",
      "Order of Matrix : 43\n",
      "Order of Matrix : 44\n",
      "Order of Matrix : 45\n",
      "Order of Matrix : 46\n",
      "Order of Matrix : 47\n",
      "Order of Matrix : 48\n",
      "Order of Matrix : 49\n",
      "Order of Matrix : 50\n",
      "Order of Matrix : 51\n",
      "Order of Matrix : 52\n",
      "Order of Matrix : 53\n",
      "Order of Matrix : 54\n",
      "Order of Matrix : 55\n",
      "Order of Matrix : 56\n",
      "Order of Matrix : 57\n",
      "Order of Matrix : 58\n",
      "Order of Matrix : 59\n",
      "Order of Matrix : 60\n",
      "Order of Matrix : 61\n",
      "Order of Matrix : 62\n",
      "Order of Matrix : 63\n",
      "Order of Matrix : 64\n",
      "Order of Matrix : 65\n",
      "Order of Matrix : 66\n",
      "Order of Matrix : 67\n",
      "Order of Matrix : 68\n",
      "Order of Matrix : 69\n",
      "Order of Matrix : 70\n",
      "Order of Matrix : 71\n",
      "Order of Matrix : 72\n",
      "Order of Matrix : 73\n",
      "Order of Matrix : 74\n",
      "Order of Matrix : 75\n",
      "Order of Matrix : 76\n",
      "Order of Matrix : 77\n",
      "Order of Matrix : 78\n",
      "Order of Matrix : 79\n",
      "Order of Matrix : 80\n",
      "Order of Matrix : 81\n",
      "Order of Matrix : 82\n",
      "Order of Matrix : 83\n",
      "Order of Matrix : 84\n",
      "Order of Matrix : 85\n",
      "Order of Matrix : 86\n",
      "Order of Matrix : 87\n",
      "Order of Matrix : 88\n",
      "Order of Matrix : 89\n",
      "Order of Matrix : 90\n",
      "Order of Matrix : 91\n",
      "Order of Matrix : 92\n",
      "Order of Matrix : 93\n",
      "Order of Matrix : 94\n",
      "Order of Matrix : 95\n",
      "Order of Matrix : 96\n",
      "Order of Matrix : 97\n",
      "Order of Matrix : 98\n",
      "Order of Matrix : 99\n",
      "Order of Matrix : 100\n"
     ]
    }
   ],
   "source": [
    "timeNaive, timeWarshall = [], []\n",
    "for i in range(10, 101):\n",
    "    adjMatrix = np.random.choice([0,1], [i, i])\n",
    "        \n",
    "    start = time.perf_counter()\n",
    "    x1 = naiveAlgorithm(adjMatrix, i)\n",
    "    timeNaive.append(time.perf_counter() - start)\n",
    "\n",
    "    start = time.perf_counter()\n",
    "    x2 = warshallAlgorithm(adjMatrix, i)\n",
    "    timeWarshall.append(time.perf_counter() - start)\n",
    "    \n",
    "    print(\"Order of Matrix : \" + str(i))"
   ]
  },
  {
   "cell_type": "markdown",
   "metadata": {},
   "source": [
    "#### Loglog plot"
   ]
  },
  {
   "cell_type": "code",
   "execution_count": 9,
   "metadata": {
    "ExecuteTime": {
     "end_time": "2020-08-19T18:05:38.261185Z",
     "start_time": "2020-08-19T18:05:37.120202Z"
    }
   },
   "outputs": [
    {
     "data": {
      "image/png": "[encoded data removed]",
      "text/plain": [
       "<Figure size 720x504 with 1 Axes>"
      ]
     },
     "metadata": {
      "needs_background": "light"
     },
     "output_type": "display_data"
    }
   ],
   "source": [
    "plt.figure(figsize=(10,7))\n",
    "plt.title(\"Naive vs Warshall Method for Transitive Closure\")\n",
    "plt.loglog(np.arange(10, 101), timeWarshall, label = \"Warshall\")\n",
    "plt.loglog(np.arange(10, 101), timeNaive, label = \"Naive\")\n",
    "plt.xlabel(\"Order of Adjacency Matrix\")\n",
    "plt.ylabel(\"Execution Time\")\n",
    "plt.legend()\n",
    "plt.show()"
   ]
  },
  {
   "cell_type": "markdown",
   "metadata": {},
   "source": [
    "#### Order of both Algo"
   ]
  },
  {
   "cell_type": "code",
   "execution_count": 8,
   "metadata": {
    "ExecuteTime": {
     "end_time": "2020-08-19T18:04:15.681006Z",
     "start_time": "2020-08-19T18:04:15.668009Z"
    }
   },
   "outputs": [
    {
     "name": "stdout",
     "output_type": "stream",
     "text": [
      "Naive Algo slope= 3.932783226525824 and intercept= -5.841500105975826\n",
      "Warshall Algo slope= 2.957201447069561 and intercept= -5.9050369677100365\n"
     ]
    }
   ],
   "source": [
    "x=[math.log10(i) for i in range(10, 101)]\n",
    "\n",
    "y=[math.log10(i) for i in timeNaive]\n",
    "\n",
    "fit=np.polyfit(x,y,1)\n",
    "\n",
    "print(\"Naive Algo slope= {} and intercept= {}\".format(fit[0],fit[1]))\n",
    "\n",
    "y2=[math.log10(i) for i in timeWarshall]\n",
    "\n",
    "fitWarshall=np.polyfit(x,y2,1)\n",
    "\n",
    "print(\"Warshall Algo slope= {} and intercept= {}\".format(fitWarshall[0],fitWarshall[1]))"
   ]
  }
 ],
 "metadata": {
  "kernelspec": {
   "display_name": "Python 3",
   "language": "python",
   "name": "python3"
  },
  "language_info": {
   "codemirror_mode": {
    "name": "ipython",
    "version": 3
   },
   "file_extension": ".py",
   "mimetype": "text/x-python",
   "name": "python",
   "nbconvert_exporter": "python",
   "pygments_lexer": "ipython3",
   "version": "3.7.3"
  },
  "toc": {
   "base_numbering": 1,
   "nav_menu": {},
   "number_sections": true,
   "sideBar": true,
   "skip_h1_title": false,
   "title_cell": "Table of Contents",
   "title_sidebar": "Contents",
   "toc_cell": false,
   "toc_position": {},
   "toc_section_display": true,
   "toc_window_display": false
  },
  "varInspector": {
   "cols": {
    "lenName": 16,
    "lenType": 16,
    "lenVar": 40
   },
   "kernels_config": {
    "python": {
     "delete_cmd_postfix": "",
     "delete_cmd_prefix": "del ",
     "library": "var_list.py",
     "varRefreshCmd": "print(var_dic_list())"
    },
    "r": {
     "delete_cmd_postfix": ") ",
     "delete_cmd_prefix": "rm(",
     "library": "var_list.r",
     "varRefreshCmd": "cat(var_dic_list()) "
    }
   },
   "types_to_exclude": [
    "module",
    "function",
    "builtin_function_or_method",
    "instance",
    "_Feature"
   ],
   "window_display": false
  }
 },
 "nbformat": 4,
 "nbformat_minor": 2
}
