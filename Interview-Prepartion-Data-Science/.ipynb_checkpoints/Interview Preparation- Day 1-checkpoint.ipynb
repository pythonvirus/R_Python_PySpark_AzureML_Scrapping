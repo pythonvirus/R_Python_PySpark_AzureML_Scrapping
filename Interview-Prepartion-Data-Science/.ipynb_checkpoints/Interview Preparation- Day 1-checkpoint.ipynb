{
 "cells": [
  {
   "cell_type": "markdown",
   "metadata": {},
   "source": [
    "### How To Learn Machine Learning Algorithms For Interviews\n",
    "\n",
    "#### Naive Bayes Classifier\n",
    "\n",
    "Theoretical Understanding:\n",
    "\n",
    "1. Tutorial 48th : https://www.youtube.com/watch?v=jS1CKhALUBQ\n",
    "2. Tutorial 49th:  https://www.youtube.com/watch?v=temQ8mHpe3k"
   ]
  },
  {
   "cell_type": "markdown",
   "metadata": {},
   "source": [
    "##### 1. What Are the Basic Assumption?\n",
    "Features Are Independent"
   ]
  },
  {
   "cell_type": "markdown",
   "metadata": {},
   "source": [
    "#####  2. Advantages\n",
    "1. Work Very well with many number of features\n",
    "2. Works Well with Large training Dataset\n",
    "3. It converges faster when we are training the model\n",
    "4. It also performs well with categorical features"
   ]
  },
  {
   "cell_type": "markdown",
   "metadata": {},
   "source": [
    "##### 3. Disadvantages\n",
    "1. Correlated features affects performance"
   ]
  },
  {
   "cell_type": "markdown",
   "metadata": {},
   "source": [
    "##### 4. Whether Feature Scaling is required?\n",
    "No\n",
    "##### 5. Impact of Missing Values?\n",
    "Naive Bayes can handle missing data. Attributes are handled separately by the algorithm at both model construction time and prediction time. As such, if a data instance has a missing value for an attribute, it can be ignored while preparing the model, and ignored when a probability is calculated for a class value\n",
    "tutorial :https://www.youtube.com/watch?v=EqjyLfpv5oA\n",
    "##### 6. Impact of outliers?\n",
    "It is usually robust to outliers"
   ]
  },
  {
   "cell_type": "markdown",
   "metadata": {},
   "source": [
    "##### Different Problem statement you can solve using Naive Baye's\n",
    "1. Sentiment Analysis\n",
    "2. Spam classification\n",
    "3. twitter sentiment analysis\n",
    "4. document categorization"
   ]
  },
  {
   "cell_type": "code",
   "execution_count": null,
   "metadata": {},
   "outputs": [],
   "source": [
    "-"
   ]
  }
 ],
 "metadata": {
  "kernelspec": {
   "display_name": "Python 3",
   "language": "python",
   "name": "python3"
  },
  "language_info": {
   "codemirror_mode": {
    "name": "ipython",
    "version": 3
   },
   "file_extension": ".py",
   "mimetype": "text/x-python",
   "name": "python",
   "nbconvert_exporter": "python",
   "pygments_lexer": "ipython3",
   "version": "3.7.3"
  },
  "toc": {
   "base_numbering": 1,
   "nav_menu": {},
   "number_sections": true,
   "sideBar": true,
   "skip_h1_title": false,
   "title_cell": "Table of Contents",
   "title_sidebar": "Contents",
   "toc_cell": false,
   "toc_position": {},
   "toc_section_display": true,
   "toc_window_display": false
  },
  "varInspector": {
   "cols": {
    "lenName": 16,
    "lenType": 16,
    "lenVar": 40
   },
   "kernels_config": {
    "python": {
     "delete_cmd_postfix": "",
     "delete_cmd_prefix": "del ",
     "library": "var_list.py",
     "varRefreshCmd": "print(var_dic_list())"
    },
    "r": {
     "delete_cmd_postfix": ") ",
     "delete_cmd_prefix": "rm(",
     "library": "var_list.r",
     "varRefreshCmd": "cat(var_dic_list()) "
    }
   },
   "types_to_exclude": [
    "module",
    "function",
    "builtin_function_or_method",
    "instance",
    "_Feature"
   ],
   "window_display": false
  }
 },
 "nbformat": 4,
 "nbformat_minor": 4
}
